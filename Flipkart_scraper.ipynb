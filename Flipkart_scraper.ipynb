{
 "cells": [
  {
   "cell_type": "code",
   "execution_count": null,
   "metadata": {},
   "outputs": [],
   "source": [
    "import selenium\n",
    "from selenium import webdriver\n",
    "from selenium.webdriver import Firefox\n",
    "from selenium.common.exceptions import NoSuchElementException\n",
    "import numpy as np\n",
    "import csv\n",
    "driver = Firefox()\n",
    "driver.get('https://www.flipkart.com')\n",
    "cross=driver.find_element_by_xpath('/html/body/div[2]/div/div/button')\n",
    "cross.click()"
   ]
  },
  {
   "cell_type": "code",
   "execution_count": null,
   "metadata": {},
   "outputs": [],
   "source": [
    "ele1=driver.find_element_by_name('q')\n",
    "search=input('Search Product')"
   ]
  },
  {
   "cell_type": "code",
   "execution_count": null,
   "metadata": {},
   "outputs": [],
   "source": [
    "ele1.send_keys(search)\n",
    "btnEle=driver.find_element_by_class_name('_34RNph')\n",
    "btnEle.click()"
   ]
  },
  {
   "cell_type": "code",
   "execution_count": 12,
   "metadata": {
    "scrolled": false
   },
   "outputs": [],
   "source": [
    "URL=driver.current_url\n",
    "urls=list(driver.current_url.split(' '))\n",
    "num=range(2,26)\n",
    "for i in num :\n",
    "    page=URL+'&page={}'.format(i)\n",
    "    #page=page.split(' ')\n",
    "    urls.append(page)\n",
    "    "
   ]
  },
  {
   "cell_type": "code",
   "execution_count": 18,
   "metadata": {},
   "outputs": [
    {
     "data": {
      "text/plain": [
       "100"
      ]
     },
     "execution_count": 18,
     "metadata": {},
     "output_type": "execute_result"
    }
   ],
   "source": [
    "csv_file=open('Flipkartproduct2.csv','w',newline='',encoding='utf-8')\n",
    "csv_writer = csv.writer(csv_file)\n",
    "csv_writer.writerow(['ProductName','ProductPrice','ProductRating','SellerName1','SellerName2','SellerName3','SellerName4','SellerName5'])"
   ]
  },
  {
   "cell_type": "code",
   "execution_count": null,
   "metadata": {
    "scrolled": true
   },
   "outputs": [],
   "source": [
    "for url in urls :\n",
    "    driver.get(url)\n",
    "    mainlink=driver.find_element_by_class_name('_13oc-S')\n",
    "    cls=mainlink.find_element_by_tag_name('a')\n",
    "    cls=cls.get_attribute('class')\n",
    "    links=driver.find_elements_by_class_name(cls)\n",
    "    mlink=[]\n",
    "    for link in links:\n",
    "        mlink.append(link.get_attribute('href'))\n",
    "        #print(mlink)\n",
    "     \n",
    "    for link in mlink:\n",
    "        driver.get(link)\n",
    "        try:\n",
    "            name=driver.find_element_by_class_name('B_NuCI').text\n",
    "        except NoSuchElementException :\n",
    "            name=np.NaN\n",
    "        try:\n",
    "            price=driver.find_element_by_class_name('_30jeq3').text.strip('₹')\n",
    "        except NoSuchElementException :\n",
    "            price=np.NaN\n",
    "        try:\n",
    "            rating=driver.find_element_by_class_name('_3LWZlK').text\n",
    "            #print(name,price,rating)\n",
    "        except NoSuchElementException:\n",
    "            rating=np.NaN  \n",
    "        try:\n",
    "            slink=driver.find_element_by_class_name('_38I6QT')\n",
    "            slink=slink.find_element_by_tag_name('a').get_attribute('href')\n",
    "            driver.get(slink)\n",
    "            driver.implicitly_wait(1)\n",
    "            sellers=driver.find_element_by_class_name('_1XrEZh')\n",
    "            sellers=sellers.find_elements_by_class_name('_2Y3EWJ')\n",
    "            sl=len(sellers)\n",
    "            i=1\n",
    "            for seller in sellers :\n",
    "                sn=seller.find_element_by_class_name('_3enH42').text\n",
    "                try:\n",
    "                    snr=seller.find_element_by_class_name('_3LWZlK ').text\n",
    "                except NoSuchElementException:\n",
    "                    snr='None'\n",
    "                #print(sn +'('+snr +')')\n",
    "                if i==1 :\n",
    "                    s1=sn +'('+snr +')'\n",
    "                    if i==sl :\n",
    "                        s2=np.NaN\n",
    "                        s3= np.NaN\n",
    "                        s4=np.NaN\n",
    "                        s5=np.NaN\n",
    "                if i==2 :\n",
    "                    s2= sn +'('+snr +')'\n",
    "                    if i==sl :\n",
    "                        s3= np.NaN\n",
    "                        s4=np.NaN\n",
    "                        s5=np.NaN\n",
    "                if i==3 :\n",
    "                    s3=sn +'('+snr +')'\n",
    "                    if i==sl :\n",
    "                        s4=np.NaN\n",
    "                        s5=np.NaN\n",
    "                if i==4 :\n",
    "                    s4=sn +'('+snr +')'\n",
    "                    if i==sl :\n",
    "                        s5=np.NaN\n",
    "                if i==5 :\n",
    "                    s5=sn +'('+snr +')'\n",
    "                i+=1\n",
    "        except NoSuchElementException:\n",
    "            try:\n",
    "                seller=driver.find_element_by_class_name('_1RLviY')\n",
    "                sn=seller.find_elements_by_tag_name('span')[1].text\n",
    "                snr=seller.find_element_by_class_name('_3LWZlK ').text\n",
    "                print(sn +'('+snr +')')\n",
    "                s1=sn +'('+snr +')'\n",
    "                s2=np.NaN\n",
    "                s3=np.NaN\n",
    "                s4=np.NaN\n",
    "                s5=np.NaN\n",
    "            except :\n",
    "                s1=np.NaN\n",
    "                s2=np.NaN\n",
    "                s3=np.NaN\n",
    "                s4=np.NaN\n",
    "                s5=np.NaN\n",
    "            \n",
    "        csv_writer.writerow([name,price,rating,s1,s2,s3,s4,s5])\n",
    "csv_file.close()\n",
    "    "
   ]
  },
  {
   "cell_type": "code",
   "execution_count": null,
   "metadata": {},
   "outputs": [],
   "source": []
  },
  {
   "cell_type": "code",
   "execution_count": null,
   "metadata": {},
   "outputs": [],
   "source": []
  },
  {
   "cell_type": "code",
   "execution_count": null,
   "metadata": {},
   "outputs": [],
   "source": []
  },
  {
   "cell_type": "code",
   "execution_count": null,
   "metadata": {},
   "outputs": [],
   "source": []
  }
 ],
 "metadata": {
  "kernelspec": {
   "display_name": "Python 3",
   "language": "python",
   "name": "python3"
  },
  "language_info": {
   "codemirror_mode": {
    "name": "ipython",
    "version": 3
   },
   "file_extension": ".py",
   "mimetype": "text/x-python",
   "name": "python",
   "nbconvert_exporter": "python",
   "pygments_lexer": "ipython3",
   "version": "3.8.5"
  }
 },
 "nbformat": 4,
 "nbformat_minor": 4
}
